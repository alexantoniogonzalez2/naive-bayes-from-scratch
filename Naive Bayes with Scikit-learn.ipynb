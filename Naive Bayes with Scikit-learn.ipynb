{
 "cells": [
  {
   "cell_type": "code",
   "execution_count": 5,
   "metadata": {},
   "outputs": [
    {
     "data": {
      "text/plain": [
       "'0.22.2.post1'"
      ]
     },
     "execution_count": 5,
     "metadata": {},
     "output_type": "execute_result"
    }
   ],
   "source": [
    "import sklearn\n",
    "import pandas as pd\n",
    "import numpy as np\n",
    "from sklearn.metrics import classification_report, confusion_matrix, accuracy_score\n",
    "from sklearn.naive_bayes import CategoricalNB\n",
    "import math \n",
    "sklearn.__version__"
   ]
  },
  {
   "cell_type": "code",
   "execution_count": 2,
   "metadata": {},
   "outputs": [],
   "source": [
    "data = pd.read_csv('data/student.csv', sep=',')\n",
    "msk = np.random.rand(len(data)) < 0.8\n",
    "\n",
    "Y = data['Grade']\n",
    "X = data.drop(columns=['Grade'])\n",
    "X = X.apply(lambda feature: pd.factorize(feature)[0])\n",
    "\n",
    "X_train = X[msk]\n",
    "X_test = X[~msk]\n",
    "Y_train = Y[msk]\n",
    "Y_test = Y[~msk]"
   ]
  },
  {
   "cell_type": "code",
   "execution_count": 3,
   "metadata": {},
   "outputs": [],
   "source": [
    "model = CategoricalNB()\n",
    "model.fit(X_train, Y_train)\n",
    "predict = model.predict(X_test)"
   ]
  },
  {
   "cell_type": "code",
   "execution_count": 4,
   "metadata": {},
   "outputs": [
    {
     "name": "stdout",
     "output_type": "stream",
     "text": [
      "              precision    recall  f1-score   support\n",
      "\n",
      "           A   0.363636  0.285714  0.320000        14\n",
      "          A+   0.000000  0.000000  0.000000         3\n",
      "           B   0.312500  0.250000  0.277778        20\n",
      "           C   0.218750  0.291667  0.250000        24\n",
      "           D   0.488372  0.525000  0.506024        40\n",
      "           F   0.476190  0.416667  0.444444        24\n",
      "\n",
      "    accuracy                       0.376000       125\n",
      "   macro avg   0.309908  0.294841  0.299708       125\n",
      "weighted avg   0.380435  0.376000  0.375545       125\n",
      "\n",
      "[[ 4  0  2  8  0  0]\n",
      " [ 1  0  2  0  0  0]\n",
      " [ 4  0  5  7  3  1]\n",
      " [ 1  1  5  7 10  0]\n",
      " [ 1  0  0  8 21 10]\n",
      " [ 0  1  2  2  9 10]]\n",
      "0.376\n"
     ]
    }
   ],
   "source": [
    "# accuracy \n",
    "print (classification_report(Y_test, predict,digits = 6))\n",
    "print (confusion_matrix(Y_test, predict))\n",
    "print (accuracy_score(Y_test, predict))"
   ]
  },
  {
   "cell_type": "markdown",
   "metadata": {},
   "source": [
    "End"
   ]
  }
 ],
 "metadata": {
  "kernelspec": {
   "display_name": "Python 3",
   "language": "python",
   "name": "python3"
  },
  "language_info": {
   "codemirror_mode": {
    "name": "ipython",
    "version": 3
   },
   "file_extension": ".py",
   "mimetype": "text/x-python",
   "name": "python",
   "nbconvert_exporter": "python",
   "pygments_lexer": "ipython3",
   "version": "3.7.7"
  }
 },
 "nbformat": 4,
 "nbformat_minor": 2
}
